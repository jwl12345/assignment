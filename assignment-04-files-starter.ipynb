{
 "cells": [
  {
   "cell_type": "markdown",
   "metadata": {},
   "source": [
    "## File Parsing\n",
    "\n",
    "In this assignment, you are required to parse a text file (unstructured data) into a json file (structured data). This is an example of a common data processing task often needed for data science projects. \n",
    "\n",
    "This project is designed to be like a real project without much instructions.\n",
    "\n",
    "The input file is `songs.txt`, which you need to analyze (this is the key - you need to understand how the data is structured) and generate a json file as shown in `songs.json`\n",
    "\n",
    "The knowledge you need may include but not limited to:\n",
    "\n",
    "- read and write files\n",
    "- regular expression\n",
    "- string manipulation\n",
    "- list and dict manipulation\n",
    "- various control structure\n",
    "\n",
    "**NOTE**: \n",
    "\n",
    "1. There is no standard solution - as long as you get the required output file.\n",
    "2. You cannot hardcode anything - for example, you cannot use a specific number in the list or a line number in the file to access data. Points will be taken off if any hardcoding is found in your solution."
   ]
  },
  {
   "cell_type": "code",
   "execution_count": 1,
   "metadata": {},
   "outputs": [],
   "source": [
    "import re\n",
    "import json\n",
    "\n",
    "f = open('songs.txt','r')\n",
    "lines = f.readlines()\n",
    "regex = '.*?[0-9]+.*'\n",
    "splits = []\n",
    "songs_info = []\n",
    "lyrics = ''\n",
    "count = 0\n",
    "\n",
    "for j in range(len(lines)):\n",
    "    if re.search(regex,lines[j]) is not None:\n",
    "        splits.append(j)\n",
    "        \n",
    "for split in splits:\n",
    "    count += 1\n",
    "    if count == len(splits):\n",
    "        lyrics_list = lines[split+3:]\n",
    "    else:\n",
    "        lyrics_list = lines[split+3:splits[count]]\n",
    "    for j in lyrics_list:\n",
    "        j = re.sub(r'\\n',' ',j)\n",
    "        regex2 = '.*[a-z]*.*'\n",
    "        if re.search(regex2, j) is not None :\n",
    "            lyrics = lyrics +', ' + j.strip()\n",
    "    song_info = {'name' : lines[split+1].strip('\\n').strip(), 'artist' : lines[split+2].strip('\\n')[3:].strip(), 'lyrics' : lyrics.strip().strip(', , ').strip(',')}\n",
    "    songs_info.append(song_info)\n",
    "    lyrics = ''\n",
    "\n",
    "file = open('songs_HW.json','w')\n",
    "json.dump(songs_info, file)\n",
    "file.close()\n",
    "\n"
   ]
  },
  {
   "cell_type": "code",
   "execution_count": null,
   "metadata": {},
   "outputs": [],
   "source": []
  }
 ],
 "metadata": {
  "kernelspec": {
   "display_name": "Python 3.9.13 ('ds')",
   "language": "python",
   "name": "python3"
  },
  "language_info": {
   "codemirror_mode": {
    "name": "ipython",
    "version": 3
   },
   "file_extension": ".py",
   "mimetype": "text/x-python",
   "name": "python",
   "nbconvert_exporter": "python",
   "pygments_lexer": "ipython3",
   "version": "3.9.13"
  },
  "orig_nbformat": 4,
  "vscode": {
   "interpreter": {
    "hash": "5d96ec2021b4d1baf9f7de3e387e2af31a3abdb02f4b47ecde35cccbfb41f2d6"
   }
  }
 },
 "nbformat": 4,
 "nbformat_minor": 2
}
