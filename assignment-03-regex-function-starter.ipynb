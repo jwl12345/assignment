{
 "cells": [
  {
   "cell_type": "markdown",
   "metadata": {},
   "source": [
    "# Question 1\n",
    "\n",
    "Search the lyrics of John Lennon's \"Imagine\" using regular expression and work on the programs according to the requirements below."
   ]
  },
  {
   "cell_type": "code",
   "execution_count": 8,
   "metadata": {},
   "outputs": [],
   "source": [
    "# Don't change this cell - just run it\n",
    "imagine = (\n",
    "    \"Imagine there's no heaven. It's easy if you try. No hell below us. Above us only sky. \" + \n",
    "    \"Imagine all the people. Living for today... Aha-ah..... \" +\n",
    "    \"Imagine there's no countries. It isn't hard to do. Nothing to kill or die for. And no religion, too. \" +\n",
    "    \"Imagine all the people. Living life in peace.... You...... \" +\n",
    "    \"You may say I'm a dreamer. But I'm not the only one. I hope someday you'll join us. And the world will be as one, \" +\n",
    "    \"Imagine no possessions. I wonder if you can. No need for greed or hunger. A brotherhood of man. \" + \n",
    "    \"Imagine all the people. Sharing all the world..... You...... \" +\n",
    "    \"You may say I'm a dreamer. But I'm not the only one. I hope someday you'll join us. And the world will live as one.\"\n",
    "    )"
   ]
  },
  {
   "cell_type": "markdown",
   "metadata": {},
   "source": [
    "### Task 1.1\n",
    "\n",
    "Use split, strip, and for loop to process the first 48 characters of the song to print out the following:\n",
    "\n",
    "```\n",
    "1: Imagine there's no heaven;\n",
    "2: It's easy if you try;\n",
    "```"
   ]
  },
  {
   "cell_type": "code",
   "execution_count": 9,
   "metadata": {},
   "outputs": [
    {
     "name": "stdout",
     "output_type": "stream",
     "text": [
      "1: Imagine there's no heaven;\n",
      "2:  It's easy if you try;\n"
     ]
    }
   ],
   "source": [
    "Sentences = imagine[:48].split(sep='.')\n",
    "count = 0\n",
    "for sentence in Sentences:\n",
    "     if sentence != '':\n",
    "        count += 1\n",
    "        print(f'{count}: {sentence};')\n"
   ]
  },
  {
   "cell_type": "markdown",
   "metadata": {},
   "source": [
    "### Task 1.2\n",
    "\n",
    "find all 'imagine' word, print the total number of occurrence and the starting index of each occurrence\n",
    "\n",
    "Sample output:\n",
    "\n",
    "```\n",
    "the total number of occurrence of \"imagine\" is 6\n",
    "the starting index of each imagine is:\n",
    "0\n",
    "86\n",
    "142\n",
    "243\n",
    "416\n",
    "512\n",
    "```\n"
   ]
  },
  {
   "cell_type": "code",
   "execution_count": 11,
   "metadata": {},
   "outputs": [
    {
     "name": "stdout",
     "output_type": "stream",
     "text": [
      "the total number of occurrence of \"imagine\" is 6\n",
      "the starting index of each imagine is:\n",
      "0\n",
      "86\n",
      "142\n",
      "243\n",
      "416\n",
      "512\n"
     ]
    }
   ],
   "source": [
    "import re\n",
    "count_num = imagine.lower().count('imagine')\n",
    "count_word = 'imagine'\n",
    "first_position = []\n",
    "result = re.finditer(count_word, imagine.lower())\n",
    "for i in result:\n",
    "    first_position.append(i.span()[0])\n",
    "print(f'the total number of occurrence of \"imagine\" is {count_num}\\nthe starting index of each imagine is:')\n",
    "for i in first_position:\n",
    "    print(i)"
   ]
  },
  {
   "cell_type": "markdown",
   "metadata": {},
   "source": [
    "### Task 1.3\n",
    "\n",
    "find all substrings starts with 'imagine' ends with '.'\n",
    "\n",
    "```\n",
    "[\"imagine there's no heaven.\",\n",
    " 'imagine all the people.',\n",
    " \"imagine there's no countries.\",\n",
    " 'imagine all the people.',\n",
    " 'imagine no possessions.',\n",
    " 'imagine all the people.']\n",
    " ```"
   ]
  },
  {
   "cell_type": "code",
   "execution_count": 12,
   "metadata": {},
   "outputs": [
    {
     "data": {
      "text/plain": [
       "[\"imagine there's no heaven.\",\n",
       " 'imagine all the people.',\n",
       " \"imagine there's no countries.\",\n",
       " 'imagine all the people.',\n",
       " 'imagine no possessions.',\n",
       " 'imagine all the people.']"
      ]
     },
     "execution_count": 12,
     "metadata": {},
     "output_type": "execute_result"
    }
   ],
   "source": [
    "regex = 'imagine.*?\\.'\n",
    "ans = re.findall(regex,imagine.lower())\n",
    "ans"
   ]
  },
  {
   "cell_type": "markdown",
   "metadata": {},
   "source": [
    "### Task 1.4\n",
    "\n",
    "find all substrings starts with 'imagine' ends with 'people' with location info.\n",
    "\n",
    "Sample output:\n",
    "```\n",
    "(86, 108) imagine all the people\n",
    "(243, 265) imagine all the people\n",
    "(512, 534) imagine all the people\n",
    "```"
   ]
  },
  {
   "cell_type": "code",
   "execution_count": 13,
   "metadata": {},
   "outputs": [
    {
     "name": "stdout",
     "output_type": "stream",
     "text": [
      "(86, 108) imagine all the people\n",
      "(243, 265) imagine all the people\n",
      "(512, 534) imagine all the people\n"
     ]
    }
   ],
   "source": [
    "regex = 'imagine[^\\.]*people'\n",
    "ans = re.finditer(regex,imagine.lower())\n",
    "for i in ans:\n",
    "    print(i.span(),i.group())"
   ]
  },
  {
   "cell_type": "markdown",
   "metadata": {},
   "source": [
    "## Question 2\n",
    "\n",
    "Develop a grade calculator with the following requirements:\n",
    "\n",
    "\n",
    "- get the input from the user using an input box and use regular expression to check the user input must be numbers between 1 and 100 (hint: use `re.match()` and `^` `$`)and prompt the user to re-enter if the input is invalid (while loop with continue and break)\n",
    "- use input box to ask whether the bonus assignment is finished or not - allow the users to enter \"yes\" or \"no\" in case insensitive way with trailing spaces, such as \"Yes\", \"YES\", \"YES  \" would all be valid input - use a while loop to prompt the users to enter valid input.\n",
    "- develop a function get_letter_grade() with two parameters: grade and bonus. If the bonus input is \"yes\", add 5 points to the grade and return the letter grade according to the following rule: A if >= 90, B if >= 80, C if >=70, D if < 70. Return the letter grade\n",
    "- call the function to print out the letter grade\n",
    "\n",
    "Some sample outputs:\n",
    "\n",
    "<img width=\"597\" src=\"https://user-images.githubusercontent.com/595772/192132635-3607b45e-d75c-4760-a070-50d1d83356dc.png\">\n",
    "\n",
    "<img width=\"597\" src=\"https://user-images.githubusercontent.com/595772/192132638-cd5f9018-ee71-46a7-8916-6c6293fac876.png\">\n",
    "\n",
    "`your grade is 76.0 and bonus assignment answer is no and letter grade is C`\n",
    "\n",
    "\n",
    "---\n",
    "<img width=\"598\" src=\"https://user-images.githubusercontent.com/595772/192132717-adbc6aee-40fa-4697-891c-319ae2210d2a.png\">\n",
    "\n",
    "<img width=\"597\" src=\"https://user-images.githubusercontent.com/595772/192132719-dcc858e4-e20a-4c84-8ab3-968e725e9b42.png\">\n",
    "\n",
    "`your grade is 88.0 and bonus assignment answer is yes and letter grade is A`\n"
   ]
  },
  {
   "cell_type": "markdown",
   "metadata": {},
   "source": []
  },
  {
   "cell_type": "code",
   "execution_count": 3,
   "metadata": {},
   "outputs": [],
   "source": [
    "import re"
   ]
  },
  {
   "cell_type": "code",
   "execution_count": 4,
   "metadata": {},
   "outputs": [
    {
     "name": "stdout",
     "output_type": "stream",
     "text": [
      "your grade is 88.0 and bonus assignment answer is yes and letter grade is A\n"
     ]
    }
   ],
   "source": [
    "# get inputs\n",
    "regex_grade = '[1-9][0-9]{0,1}$|100$|0$'\n",
    "regex_letter = 'yes|no'\n",
    "grade = input('enter your grade：')\n",
    "re.match(regex_grade, grade)\n",
    "while re.match(regex_grade, grade) is None:\n",
    "    grade = input('Wrong input. Please enter again: ')\n",
    "letter = input('Bonus assignment finished(yes or no): ')\n",
    "while re.match(regex_letter,letter.lower()) is None :\n",
    "    letter = input('Wrong input. Please enter again: ')\n",
    "\n",
    "\n",
    "# define the get_letter_grade() function\n",
    "def get_letter_grade(grade, letter):\n",
    "    if letter.lower() == 'yes':\n",
    "        total_grade = float(grade) + 5\n",
    "    if total_grade >= 90:\n",
    "        level = 'A'\n",
    "    elif total_grade >= 80:\n",
    "        level = 'B'\n",
    "    elif total_grade >= 70:\n",
    "        level = 'C'\n",
    "    else:\n",
    "        level = 'D'\n",
    "    print(f'your grade is {float(grade):.1f} and bonus assignment answer is {letter.lower()} and letter grade is {level}')\n",
    "\n",
    "\n",
    "# call the function to print the result\n",
    "get_letter_grade(grade, letter)"
   ]
  },
  {
   "cell_type": "code",
   "execution_count": null,
   "metadata": {},
   "outputs": [],
   "source": []
  },
  {
   "cell_type": "code",
   "execution_count": null,
   "metadata": {},
   "outputs": [],
   "source": []
  }
 ],
 "metadata": {
  "kernelspec": {
   "display_name": "Python 3.10.4 ('ds')",
   "language": "python",
   "name": "python3"
  },
  "language_info": {
   "codemirror_mode": {
    "name": "ipython",
    "version": 3
   },
   "file_extension": ".py",
   "mimetype": "text/x-python",
   "name": "python",
   "nbconvert_exporter": "python",
   "pygments_lexer": "ipython3",
   "version": "3.10.4"
  },
  "orig_nbformat": 4,
  "vscode": {
   "interpreter": {
    "hash": "e528be4bfc928f8352b07f26f2bf8082f80a4ce03b9422b4750f8c9f0d012c88"
   }
  }
 },
 "nbformat": 4,
 "nbformat_minor": 2
}
