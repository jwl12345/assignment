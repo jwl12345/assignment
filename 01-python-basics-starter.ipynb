{
 "cells": [
  {
   "cell_type": "markdown",
   "metadata": {},
   "source": [
    "# Assignment 1\n",
    "\n",
    "You need to complete the following programs."
   ]
  },
  {
   "cell_type": "markdown",
   "metadata": {},
   "source": [
    "## Question 1\n",
    "\n",
    "### Weiliang Jiang\n",
    "I am a **college student** from [Southwestern university of Finance and Economics](https://www.swufe.edu.cn/index.htm)\n",
    "\n",
    "I have several hobbies when I am in my free time such as:\n",
    "- basketball\n",
    "- video games\n",
    "- watching films\n",
    "\n",
    "The earliest Python function might be the 'print()'"
   ]
  },
  {
   "cell_type": "markdown",
   "metadata": {},
   "source": [
    "# Question 2\n",
    "\n",
    "Develop a simple saving calculator with the following requirements:\n",
    "\n",
    "- an input function must be used to ask users to enter the initial deposit\n",
    "- the user input must be stored as a variable - you may need to do type conversion\n",
    "- the balance must be a variable, whose value is the total balance after 10 years with fixed interest rate of 8%\n",
    "- a print function must be used to return the result to the user - you may need to do type conversion"
   ]
  },
  {
   "cell_type": "code",
   "execution_count": 1,
   "metadata": {},
   "outputs": [
    {
     "name": "stdout",
     "output_type": "stream",
     "text": [
      "your balance after 10 years based on 8 percent interest rate will be215.89249972727882\n"
     ]
    }
   ],
   "source": [
    "# complete the program in this cell\n",
    "\n",
    "initial_deposit=input('please enter your initial deposit:')\n",
    "while float(initial_deposit)<0:\n",
    "    print('it is a negative number')\n",
    "    initial_deposit=input('please enter again')\n",
    "\n",
    "balance=float(initial_deposit)*1.08**10\n",
    "print('your balance after 10 years based on 8 percent interest rate will be'+str(balance))\n"
   ]
  }
 ],
 "metadata": {
  "kernelspec": {
   "display_name": "Python 3.10.4 ('ds')",
   "language": "python",
   "name": "python3"
  },
  "language_info": {
   "codemirror_mode": {
    "name": "ipython",
    "version": 3
   },
   "file_extension": ".py",
   "mimetype": "text/x-python",
   "name": "python",
   "nbconvert_exporter": "python",
   "pygments_lexer": "ipython3",
   "version": "3.10.4"
  },
  "orig_nbformat": 4,
  "vscode": {
   "interpreter": {
    "hash": "e528be4bfc928f8352b07f26f2bf8082f80a4ce03b9422b4750f8c9f0d012c88"
   }
  }
 },
 "nbformat": 4,
 "nbformat_minor": 2
}
