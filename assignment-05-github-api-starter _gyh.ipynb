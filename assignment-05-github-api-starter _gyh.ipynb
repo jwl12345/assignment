{
 "cells": [
  {
   "cell_type": "code",
   "execution_count": 5,
   "metadata": {},
   "outputs": [],
   "source": [
    "import requests\n",
    "import time\n",
    "import json\n",
    "import numpy as np\n"
   ]
  },
  {
   "cell_type": "code",
   "execution_count": 7,
   "metadata": {},
   "outputs": [],
   "source": [
    "headers = {\n",
    "    'Authorization': 'Client-ID _-xSkxdbN5O2Qzxz5Kg0gXIbZ0bFOyzc2y-vM0_uc4s'  # change to 'Authorization': 'Client-ID AwrUoBEOtF...'\n",
    "}\n",
    "\n",
    "base_url = 'https://api.unsplash.com'\n",
    "photo_url = base_url + '/photos?page='\n",
    "photo_id = []\n",
    "\n",
    "#get photos\n",
    "for i in range(3):\n",
    "\n",
    "    response = requests.request('GET', f'{photo_url}{i+1}', headers=headers)\n",
    "    photo_list = response.json()\n",
    "    # get id\n",
    "    \n",
    "    for j in range(len(photo_list)):\n",
    "        photo_id.append(photo_list[j]['id'])"
   ]
  },
  {
   "cell_type": "code",
   "execution_count": 8,
   "metadata": {},
   "outputs": [],
   "source": [
    "# get unique id\n",
    "photo_set = list(set(photo_id))[:25]"
   ]
  },
  {
   "cell_type": "code",
   "execution_count": 9,
   "metadata": {},
   "outputs": [],
   "source": [
    "# get details\n",
    "\n",
    "photo_sub = []\n",
    "\n",
    "for i in photo_set:\n",
    "\n",
    "\n",
    "    get_photo = base_url + '/photos/' + i\n",
    "    photo_response = requests.request('GET', get_photo, headers=headers) \n",
    "    time.sleep(2)\n",
    "\n",
    "    photo_sub.append(photo_response.json())\n",
    "\n",
    "photo_json = open('photos-WeiliangJiang.json', 'w')\n",
    "json.dump(photo_sub, photo_json)\n",
    "photo_json.close()\n",
    "\n"
   ]
  },
  {
   "cell_type": "code",
   "execution_count": 12,
   "metadata": {},
   "outputs": [
    {
     "name": "stdout",
     "output_type": "stream",
     "text": [
      "There are 123 unique photos in the dataset.\n",
      "20 photos are sponsored and the sponsor percentage is 16.26%.\n",
      "There are 6 unique sponsors: Mailchimp, Microsoft 365, Microsoft Edge, Samsung Memory, Surface, Windows\n"
     ]
    }
   ],
   "source": [
    "photo_adding = open('photos.json')\n",
    "task_photo = json.load(photo_adding) + photo_sub\n",
    "photo_adding.close()\n",
    "\n",
    "photo_set = []\n",
    "photo_id = []\n",
    "\n",
    "# make sure photos are unique\n",
    "for i in task_photo: \n",
    "\n",
    "    if i['id'] not in photo_id:\n",
    "        photo_set.append(i)\n",
    "    \n",
    "    photo_id.append(i['id'])\n",
    "\n",
    "\n",
    "\n",
    "# get sponsor info\n",
    "sponsors_detail = []\n",
    "\n",
    "for i in range(len(photo_set)):\n",
    "    if photo_set[i].get('sponsorship') is not None:\n",
    "        info = photo_set[i]['sponsorship']['sponsor']['name']\n",
    "        sponsors_detail.append(info)\n",
    "\n",
    "sponsors = np.unique(sponsors_detail)\n",
    "sponsored_amount = len(sponsors_detail)\n",
    "sponsors_num = len(sponsors)\n",
    "\n",
    "print(\n",
    "    f'There are {len(photo_set)} unique photos in the dataset.\\n' +\n",
    "    f'{sponsored_amount} photos are sponsored and the sponsor percentage is {sponsored_amount/len(photo_set):.2%}.\\n' + \n",
    "    f'There are {sponsors_num} unique sponsors: ' + \n",
    "    ', '.join(sponsors)\n",
    ")"
   ]
  },
  {
   "cell_type": "code",
   "execution_count": 13,
   "metadata": {},
   "outputs": [],
   "source": [
    "camera = []\n",
    "for i in task_photo:\n",
    "    camera.append(i['exif']['make'])\n",
    "\n",
    "camera_info = np.array(camera)\n",
    "np_camera_info = camera_info[camera_info != None]"
   ]
  },
  {
   "cell_type": "code",
   "execution_count": 14,
   "metadata": {},
   "outputs": [
    {
     "name": "stdout",
     "output_type": "stream",
     "text": [
      "Out of 125 photos, 99 have camera information. \n",
      "The summary of camera make information is as follows:\n",
      "Canon: 29\n",
      "DJI: 1\n",
      "FUJIFILM: 11\n",
      "Fujifilm: 1\n",
      "NIKON CORPORATION: 27\n",
      "OLYMPUS CORPORATION: 1\n",
      "Panasonic: 5\n",
      "SONY: 24\n"
     ]
    }
   ],
   "source": [
    "unique_info, times= np.unique(np_camera_info, return_counts=True)\n",
    "\n",
    "print(\n",
    "    f'Out of {len(camera_info)} photos, {len(np_camera_info)} have camera information. \\n' + \n",
    "    'The summary of camera make information is as follows:'\n",
    ")\n",
    "\n",
    "for i in range(len(unique_info)):\n",
    "    print(f'{unique_info[i]}: {times[i]}')"
   ]
  }
 ],
 "metadata": {
  "kernelspec": {
   "display_name": "Python 3.10.4 ('ds')",
   "language": "python",
   "name": "python3"
  },
  "language_info": {
   "codemirror_mode": {
    "name": "ipython",
    "version": 3
   },
   "file_extension": ".py",
   "mimetype": "text/x-python",
   "name": "python",
   "nbconvert_exporter": "python",
   "pygments_lexer": "ipython3",
   "version": "3.10.4"
  },
  "orig_nbformat": 4,
  "vscode": {
   "interpreter": {
    "hash": "e528be4bfc928f8352b07f26f2bf8082f80a4ce03b9422b4750f8c9f0d012c88"
   }
  }
 },
 "nbformat": 4,
 "nbformat_minor": 2
}
